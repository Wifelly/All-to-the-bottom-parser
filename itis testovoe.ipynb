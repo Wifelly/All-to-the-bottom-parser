{
 "cells": [
  {
   "cell_type": "code",
   "execution_count": 1,
   "metadata": {},
   "outputs": [],
   "source": [
    "import pandas as pd\n",
    "import numpy as np"
   ]
  },
  {
   "cell_type": "code",
   "execution_count": 2,
   "metadata": {},
   "outputs": [],
   "source": [
    "cleared_lines = []\n",
    "with open('logs.txt') as f:\n",
    "    for line in f.readlines():\n",
    "        cleared_line = \" \".join(line.replace('|','').split()).split()\n",
    "        cleared_line[6] = cleared_line[6].replace('https://all_to_the_bottom.com/', '')\n",
    "        if cleared_line[6] == '':\n",
    "            cleared_line[6] = 'index'\n",
    "        cleared_line[1] = cleared_line[1] + ' ' + cleared_line[2]\n",
    "        cleared_lines.append(cleared_line)\n",
    "\n",
    "df = pd.DataFrame(cleared_lines, columns=[0, 'date', 'time', 'id', 4, 'ip', 'action']).drop([0, 4], axis=1)\n",
    "df = df.replace('', np.nan).dropna()\n",
    "df.reset_index(drop=True, inplace=True)"
   ]
  },
  {
   "cell_type": "code",
   "execution_count": 3,
   "metadata": {},
   "outputs": [
    {
     "data": {
      "text/html": "<div>\n<style scoped>\n    .dataframe tbody tr th:only-of-type {\n        vertical-align: middle;\n    }\n\n    .dataframe tbody tr th {\n        vertical-align: top;\n    }\n\n    .dataframe thead th {\n        text-align: right;\n    }\n</style>\n<table border=\"1\" class=\"dataframe\">\n  <thead>\n    <tr style=\"text-align: right;\">\n      <th></th>\n      <th>date</th>\n      <th>time</th>\n      <th>id</th>\n      <th>ip</th>\n      <th>action</th>\n    </tr>\n  </thead>\n  <tbody>\n    <tr>\n      <td>0</td>\n      <td>2018-08-01 00:01:35</td>\n      <td>00:01:35</td>\n      <td>[YQ4WUDJV]</td>\n      <td>121.165.118.201</td>\n      <td>index</td>\n    </tr>\n    <tr>\n      <td>1</td>\n      <td>2018-08-01 00:01:47</td>\n      <td>00:01:47</td>\n      <td>[E522JAEQ]</td>\n      <td>121.165.118.201</td>\n      <td>fresh_fish/</td>\n    </tr>\n    <tr>\n      <td>2</td>\n      <td>2018-08-01 00:03:02</td>\n      <td>00:03:02</td>\n      <td>[BHWP66G8]</td>\n      <td>121.165.118.201</td>\n      <td>index</td>\n    </tr>\n    <tr>\n      <td>3</td>\n      <td>2018-08-01 00:04:27</td>\n      <td>00:04:27</td>\n      <td>[C0182Y6W]</td>\n      <td>121.165.118.201</td>\n      <td>canned_food/</td>\n    </tr>\n    <tr>\n      <td>4</td>\n      <td>2018-08-01 00:05:55</td>\n      <td>00:05:55</td>\n      <td>[OJKTKNP6]</td>\n      <td>121.165.118.201</td>\n      <td>index</td>\n    </tr>\n    <tr>\n      <td>...</td>\n      <td>...</td>\n      <td>...</td>\n      <td>...</td>\n      <td>...</td>\n      <td>...</td>\n    </tr>\n    <tr>\n      <td>24279</td>\n      <td>2018-08-14 09:52:25</td>\n      <td>09:52:25</td>\n      <td>[9SDDN7VV]</td>\n      <td>147.144.255.18</td>\n      <td>index</td>\n    </tr>\n    <tr>\n      <td>24280</td>\n      <td>2018-08-14 09:53:06</td>\n      <td>09:53:06</td>\n      <td>[PANSGPA1]</td>\n      <td>147.144.255.18</td>\n      <td>canned_food/</td>\n    </tr>\n    <tr>\n      <td>24281</td>\n      <td>2018-08-14 09:53:56</td>\n      <td>09:53:56</td>\n      <td>[QBV4IHFK]</td>\n      <td>147.144.255.18</td>\n      <td>canned_food/pate_of_tuna/</td>\n    </tr>\n    <tr>\n      <td>24282</td>\n      <td>2018-08-14 09:53:56</td>\n      <td>09:53:56</td>\n      <td>[ZLZ4QXWB]</td>\n      <td>147.144.255.18</td>\n      <td>pay?user_id=81416246280&amp;cart_id=9790</td>\n    </tr>\n    <tr>\n      <td>24283</td>\n      <td>2018-08-14 09:53:56</td>\n      <td>09:53:56</td>\n      <td>[2O1CTP7M]</td>\n      <td>147.144.255.18</td>\n      <td>success_pay_9790/</td>\n    </tr>\n  </tbody>\n</table>\n<p>24284 rows × 5 columns</p>\n</div>",
      "text/plain": "                      date      time          id               ip  \\\n0      2018-08-01 00:01:35  00:01:35  [YQ4WUDJV]  121.165.118.201   \n1      2018-08-01 00:01:47  00:01:47  [E522JAEQ]  121.165.118.201   \n2      2018-08-01 00:03:02  00:03:02  [BHWP66G8]  121.165.118.201   \n3      2018-08-01 00:04:27  00:04:27  [C0182Y6W]  121.165.118.201   \n4      2018-08-01 00:05:55  00:05:55  [OJKTKNP6]  121.165.118.201   \n...                    ...       ...         ...              ...   \n24279  2018-08-14 09:52:25  09:52:25  [9SDDN7VV]   147.144.255.18   \n24280  2018-08-14 09:53:06  09:53:06  [PANSGPA1]   147.144.255.18   \n24281  2018-08-14 09:53:56  09:53:56  [QBV4IHFK]   147.144.255.18   \n24282  2018-08-14 09:53:56  09:53:56  [ZLZ4QXWB]   147.144.255.18   \n24283  2018-08-14 09:53:56  09:53:56  [2O1CTP7M]   147.144.255.18   \n\n                                     action  \n0                                     index  \n1                               fresh_fish/  \n2                                     index  \n3                              canned_food/  \n4                                     index  \n...                                     ...  \n24279                                 index  \n24280                          canned_food/  \n24281             canned_food/pate_of_tuna/  \n24282  pay?user_id=81416246280&cart_id=9790  \n24283                     success_pay_9790/  \n\n[24284 rows x 5 columns]"
     },
     "execution_count": 3,
     "metadata": {},
     "output_type": "execute_result"
    }
   ],
   "source": [
    "df"
   ]
  },
  {
   "cell_type": "code",
   "execution_count": 4,
   "metadata": {},
   "outputs": [],
   "source": [
    "# df.\n",
    "# for i, item in enumerate(df.action):\n",
    "#     if item.count('/') == 1:\n",
    "#         print(item.split('/'), i)\n",
    "#     if item.count('/') == 2:\n",
    "#         print(item.split('/'), i)"
   ]
  },
  {
   "cell_type": "code",
   "execution_count": 5,
   "metadata": {},
   "outputs": [],
   "source": [
    "# def split(item):\n",
    "#     return item.split('/')"
   ]
  },
  {
   "cell_type": "code",
   "execution_count": 6,
   "metadata": {},
   "outputs": [],
   "source": [
    "# df['tovar'] = np.nan\n",
    "# df"
   ]
  },
  {
   "cell_type": "code",
   "execution_count": 7,
   "metadata": {},
   "outputs": [],
   "source": [
    "import sqlite3\n",
    "\n",
    "conn = sqlite3.connect(\"database\")\n",
    "cursor = conn.cursor()\n",
    "\n",
    "cursor.execute(\"\"\"DROP TABLE IF EXISTS Users\"\"\")\n",
    "cursor.execute(\"\"\"DROP TABLE IF EXISTS Actions\"\"\")\n",
    "cursor.execute(\"\"\"DROP TABLE IF EXISTS Transasction\"\"\")\n",
    "cursor.execute(\"\"\"DROP TABLE IF EXISTS Categories\"\"\")\n",
    "cursor.execute(\"\"\"DROP TABLE IF EXISTS Products\"\"\")\n",
    "\n",
    "cursor.execute(\"\"\"CREATE TABLE IF NOT EXISTS Users (\n",
    "                    id INTEGER PRIMARY KEY AUTOINCREMENT UNIQUE NOT NULL,\n",
    "                    ip TEXT NOT NULL UNIQUE,\n",
    "                    country TEXT\n",
    "                    );\n",
    "               \"\"\")\n",
    "cursor.execute(\"\"\"CREATE TABLE IF NOT EXISTS Actions (\n",
    "                    id INTEGER PRIMARY KEY AUTOINCREMENT UNIQUE NOT NULL,\n",
    "                    path TEXT NOT NULL,\n",
    "                    path2 TEXT\n",
    "                    );\n",
    "               \"\"\")\n",
    "cursor.execute(\"\"\"CREATE TABLE IF NOT EXISTS Transasction (\n",
    "                    id\tINTEGER PRIMARY KEY AUTOINCREMENT UNIQUE NOT NULL,\n",
    "                    ip TEXT NOT NULL UNIQUE\n",
    "                    );\n",
    "               \"\"\")\n",
    "# cursor.execute(\"\"\"CREATE TABLE IF NOT EXISTS Categories (\n",
    "#                     id\tINTEGER PRIMARY KEY AUTOINCREMENT UNIQUE NOT NULL,\n",
    "#                     name TEXT NOT NULL UNIQUE\n",
    "#                     );\n",
    "#                \"\"\")\n",
    "cursor.execute(\"\"\"CREATE TABLE IF NOT EXISTS Products (\n",
    "                    id\tINTEGER PRIMARY KEY AUTOINCREMENT UNIQUE NOT NULL,\n",
    "                    name TEXT NOT NULL UNIQUE\n",
    "                    );\n",
    "               \"\"\")\n",
    "               \n",
    "\n",
    "# cursor.execute(\"\"\"INSERT INTO Users (ip) \n",
    "#                     VALUES ('32.81.190.');\n",
    "#                \"\"\")\n",
    "\n",
    "# cursor.execute(\"\"\"SELECT * FROM Users\"\"\")\n",
    "\n",
    "\n",
    "data = cursor.fetchall()\n",
    "conn.close()"
   ]
  },
  {
   "cell_type": "code",
   "execution_count": 8,
   "metadata": {},
   "outputs": [
    {
     "data": {
      "text/plain": "[]"
     },
     "execution_count": 8,
     "metadata": {},
     "output_type": "execute_result"
    }
   ],
   "source": [
    "data"
   ]
  }
 ],
 "metadata": {
  "kernelspec": {
   "display_name": "Python 3",
   "language": "python",
   "name": "python3"
  },
  "language_info": {
   "codemirror_mode": {
    "name": "ipython",
    "version": 3
   },
   "file_extension": ".py",
   "mimetype": "text/x-python",
   "name": "python",
   "nbconvert_exporter": "python",
   "pygments_lexer": "ipython3",
   "version": "3.7.3"
  }
 },
 "nbformat": 4,
 "nbformat_minor": 2
}